{
 "cells": [
  {
   "cell_type": "markdown",
   "metadata": {
    "colab_type": "text",
    "id": "06DydHlvqpjO"
   },
   "source": [
    "# Описание задания"
   ]
  },
  {
   "cell_type": "markdown",
   "metadata": {
    "colab_type": "text",
    "id": "xEc3OuHHquKG"
   },
   "source": [
    "**Цель домашнего задания:** решение комплексной задачи машинного обучения."
   ]
  },
  {
   "cell_type": "markdown",
   "metadata": {
    "colab_type": "text",
    "id": "H9SVQBvdrXH3"
   },
   "source": [
    "## Задание\n",
    "\n",
    "1. Поиск и выбор набора данных для построения моделей машинного обучения. На основе выбранного набора данных студент должен построить модели машинного обучения для решения или задачи классификации, или задачи регрессии.\n",
    "2. Проведение разведочного анализа данных. Построение графиков, необходимых для понимания структуры данных. Анализ и заполнение пропусков в данных.\n",
    "3. Выбор признаков, подходящих для построения моделей. Кодирование категориальных признаков Масштабирование данных. Формирование вспомогательных признаков, улучшающих качество моделей.\n",
    "4. Проведение корреляционного анализа данных. Формирование промежуточных выводов о возможности построения моделей машинного обучения. В зависимости от набора данных, порядок выполнения пунктов 2, 3, 4 может быть изменен.\n",
    "5. Выбор метрик для последующей оценки качества моделей. Необходимо выбрать не менее двух метрик и обосновать выбор.\n",
    "6. Выбор наиболее подходящих моделей для решения задачи классификации или регрессии. Необходимо использовать не менее трех моделей, хотя бы одна из которых должна быть ансамблевой.\n",
    "7. Формирование обучающей и тестовой выборок на основе исходного набора данных.\n",
    "8. Построение базового решения (baseline) для выбранных моделей без подбора гиперпараметров. Производится обучение моделей на основе обучающей выборки и оценка качества моделей на основе тестовой выборки.\n",
    "9. Подбор гиперпараметров для выбранных моделей. Рекомендуется подбирать не более 1-2 гиперпараметров. Рекомендуется использовать методы кросс-валидации. В зависимости от используемой библиотеки можно применять функцию GridSearchCV, использовать перебор параметров в цикле, или использовать другие методы.\n",
    "10. Повторение пункта 8 для найденных оптимальных значений гиперпараметров. Сравнение качества полученных моделей с качеством baseline-моделей.\n",
    "11. Формирование выводов о качестве построенных моделей на основе выбранных метрик."
   ]
  },
  {
   "cell_type": "markdown",
   "metadata": {
    "colab_type": "text",
    "id": "Fx41NDOOrY_Y"
   },
   "source": [
    "# Ход выполнения домашнего задания"
   ]
  },
  {
   "cell_type": "markdown",
   "metadata": {
    "colab_type": "text",
    "id": "Q7LbjTqkrqyL"
   },
   "source": [
    "## Выбор датасета\n",
    "​\n",
    "​\n",
    "В качестве исходных данных для решения поставленной задачи был выбран датасет Heart Disease UCI (https://www.kaggle.com/ronitf/heart-disease-uci). 303 записи, 14 признаков, целевой признак относится к наличию болезни сердца у пациента: 0 - нет болезни сердца, 1 - есть. На основе данного датасета будем производить построение модели для решения задачи классификации."
   ]
  },
  {
   "cell_type": "code",
   "execution_count": 1,
   "metadata": {
    "colab": {},
    "colab_type": "code",
    "id": "ooP-DuofrU05"
   },
   "outputs": [],
   "source": [
    "import warnings\n",
    "warnings.filterwarnings('ignore')"
   ]
  },
  {
   "cell_type": "code",
   "execution_count": 2,
   "metadata": {
    "colab": {
     "base_uri": "https://localhost:8080/",
     "height": 54
    },
    "colab_type": "code",
    "id": "00s0FRsjsXuK",
    "outputId": "4b73ed0c-a9cf-40b5-e1df-925152eb3e96",
    "scrolled": true
   },
   "outputs": [
    {
     "ename": "ModuleNotFoundError",
     "evalue": "No module named 'google.colab'",
     "output_type": "error",
     "traceback": [
      "\u001b[1;31m---------------------------------------------------------------------------\u001b[0m",
      "\u001b[1;31mModuleNotFoundError\u001b[0m                       Traceback (most recent call last)",
      "\u001b[1;32m<ipython-input-2-43587b81df40>\u001b[0m in \u001b[0;36m<module>\u001b[1;34m\u001b[0m\n\u001b[1;32m----> 1\u001b[1;33m \u001b[1;32mfrom\u001b[0m \u001b[0mgoogle\u001b[0m\u001b[1;33m.\u001b[0m\u001b[0mcolab\u001b[0m \u001b[1;32mimport\u001b[0m \u001b[0mdrive\u001b[0m\u001b[1;33m,\u001b[0m \u001b[0mfiles\u001b[0m\u001b[1;33m\u001b[0m\u001b[0m\n\u001b[0m\u001b[0;32m      2\u001b[0m \u001b[0mdrive\u001b[0m\u001b[1;33m.\u001b[0m\u001b[0mmount\u001b[0m\u001b[1;33m(\u001b[0m\u001b[1;34m'/content/drive'\u001b[0m\u001b[1;33m)\u001b[0m\u001b[1;33m\u001b[0m\u001b[0m\n",
      "\u001b[1;31mModuleNotFoundError\u001b[0m: No module named 'google.colab'"
     ]
    }
   ],
   "source": [
    "#from google.colab import drive, files\n",
    "import google\n",
    "google.colab.drive.mount('/content/drive')"
   ]
  },
  {
   "cell_type": "code",
   "execution_count": null,
   "metadata": {
    "colab": {},
    "colab_type": "code",
    "id": "YD2Cd-cTschj"
   },
   "outputs": [],
   "source": [
    "from google.colab import files\n",
    "import os\n",
    "import numpy as np\n",
    "import pandas as pd\n",
    "import seaborn as sns\n",
    "import matplotlib.pyplot as plt\n",
    "%matplotlib inline \n",
    "os.listdir()\n",
    "data = pd.read_csv('drive/My Drive/mmo_datasets/heart.csv',\n",
    "                   sep=\",\", encoding=\"iso-8859-1\")"
   ]
  },
  {
   "cell_type": "markdown",
   "metadata": {
    "colab_type": "text",
    "id": "oFivzBTCs4iN"
   },
   "source": [
    "## Разведочный анализ данных"
   ]
  },
  {
   "cell_type": "code",
   "execution_count": null,
   "metadata": {
    "colab": {
     "base_uri": "https://localhost:8080/",
     "height": 224
    },
    "colab_type": "code",
    "id": "GD8NV_TnskWU",
    "outputId": "9a83156a-c60b-4596-f6d2-316b4c75f2d7"
   },
   "outputs": [],
   "source": [
    "data.head()"
   ]
  },
  {
   "cell_type": "code",
   "execution_count": null,
   "metadata": {
    "colab": {
     "base_uri": "https://localhost:8080/",
     "height": 34
    },
    "colab_type": "code",
    "id": "uoomJc1csmF0",
    "outputId": "f915f47d-19ce-41a1-d9a9-131f5df3cc77"
   },
   "outputs": [],
   "source": [
    "data.shape"
   ]
  },
  {
   "cell_type": "code",
   "execution_count": null,
   "metadata": {
    "colab": {
     "base_uri": "https://localhost:8080/",
     "height": 300
    },
    "colab_type": "code",
    "id": "HGNIK0ALzy00",
    "outputId": "79dd0cd4-fcc7-4431-db42-2746bdfed4b0"
   },
   "outputs": [],
   "source": [
    "sns.violinplot(x=data['trestbps'])"
   ]
  },
  {
   "cell_type": "code",
   "execution_count": null,
   "metadata": {
    "colab": {},
    "colab_type": "code",
    "id": "qktRqvOjzPlQ"
   },
   "outputs": [],
   "source": [
    "total_count = data.shape[0]\n",
    "num_cols = []\n",
    "for col in data.columns:\n",
    "    # Количество пустых значений \n",
    "    temp_null_count = data[data[col].isnull()].shape[0]\n",
    "    dt = str(data[col].dtype)\n",
    "    if temp_null_count>0:\n",
    "        num_cols.append(col)\n",
    "        temp_perc = round((temp_null_count / total_count) * 100.0, 2)\n",
    "        print('Колонка {}. Тип данных {}. Количество пустых значений {}, {}%.'\n",
    "              .format(col, dt, temp_null_count, temp_perc))\n",
    "\n",
    "data_cleared = data"
   ]
  },
  {
   "cell_type": "markdown",
   "metadata": {
    "colab_type": "text",
    "id": "n--H1goLzSzM"
   },
   "source": [
    "Пропусков в данных обнаружено не было."
   ]
  },
  {
   "cell_type": "code",
   "execution_count": null,
   "metadata": {
    "colab": {
     "base_uri": "https://localhost:8080/",
     "height": 272
    },
    "colab_type": "code",
    "id": "yX1uzVIDzWYP",
    "outputId": "38afda03-468a-42eb-ac2e-39c5e67567b5"
   },
   "outputs": [],
   "source": [
    "data.dtypes"
   ]
  },
  {
   "cell_type": "markdown",
   "metadata": {
    "colab_type": "text",
    "id": "5cfYW5WtzVvz"
   },
   "source": [
    "В модели отсутствуют категориальные признаки, поэтому нет необходимости проводить кодирование. В качетсве признака для классификации выберем предлагаемый признак target - наличие у пациента сердечных заболеваний."
   ]
  },
  {
   "cell_type": "markdown",
   "metadata": {
    "colab_type": "text",
    "id": "BwOd08o_2Q0F"
   },
   "source": [
    "## Проведение корреляционного анализа данных"
   ]
  },
  {
   "cell_type": "code",
   "execution_count": null,
   "metadata": {
    "colab": {
     "base_uri": "https://localhost:8080/",
     "height": 632
    },
    "colab_type": "code",
    "id": "B8bcgUBatcWC",
    "outputId": "35ec293d-b3a4-4984-8c66-414baea4f872"
   },
   "outputs": [],
   "source": [
    "fig, ax = plt.subplots(figsize=(20,10))\n",
    "sns.heatmap(data.corr(), annot=True, fmt='.2f', ax=ax)"
   ]
  },
  {
   "cell_type": "markdown",
   "metadata": {
    "colab_type": "text",
    "id": "6P6h3uQAvME_"
   },
   "source": [
    "В результате построения корреляционной матрицы было выявлено, что признаки fbs (fasting blood sugar - уровень сахара в крови натощак) и chol (сыворотка холесторальная) слабо коррелируют с целевым признаком (0.03 и 0.09 соответственно), ввиду чего уберем данные признак из рассмотрения, чтобы предотвратить возможное ухудшение параметров работы моделей."
   ]
  },
  {
   "cell_type": "code",
   "execution_count": null,
   "metadata": {
    "colab": {},
    "colab_type": "code",
    "id": "hXjHSHDlyJgI"
   },
   "outputs": [],
   "source": [
    "data = data.drop(['fbs', 'chol'], axis=1)"
   ]
  },
  {
   "cell_type": "code",
   "execution_count": null,
   "metadata": {
    "colab": {
     "base_uri": "https://localhost:8080/",
     "height": 632
    },
    "colab_type": "code",
    "id": "fxLkqBMsyFtx",
    "outputId": "75367a82-f1c1-4c73-c583-c37b8b03afc9"
   },
   "outputs": [],
   "source": [
    "fig, ax = plt.subplots(figsize=(20,10))\n",
    "sns.heatmap(data.corr(), annot=True, fmt='.2f', ax=ax)"
   ]
  },
  {
   "cell_type": "markdown",
   "metadata": {
    "colab_type": "text",
    "id": "0dfHuu_N2aVm"
   },
   "source": [
    "## Выбор метрик для оценки качества моделей"
   ]
  },
  {
   "cell_type": "markdown",
   "metadata": {
    "colab_type": "text",
    "id": "zF9FNkly3ByS"
   },
   "source": [
    "**balanced_accuracy_score** - сбалансированная точность в задачах двоичной и мультиклассовой классификации для решения проблемы несбалансированных наборов данных. \n",
    "\n",
    "**precision_score** - доля верно предсказанных классификатором положительных объектов, из всех объектов, которые классификатор верно или неверно определил как положительные.\n",
    "\n",
    "**recall_score** - доля верно предсказанных классификатором положительных объектов, из всех действительно положительных объектов. \n",
    "\n",
    "**f1_score** - объединяет precision и recall в единую метрику\n",
    "$$\n",
    "    F_1 = 2* \\frac{precision*recall}{precision+recall}\n",
    "$$"
   ]
  },
  {
   "cell_type": "code",
   "execution_count": null,
   "metadata": {
    "colab": {},
    "colab_type": "code",
    "id": "tT1S8QhRyWBO"
   },
   "outputs": [],
   "source": [
    "from sklearn.metrics import balanced_accuracy_score\n",
    "from sklearn.metrics import precision_score, recall_score\n",
    "from sklearn.metrics import f1_score"
   ]
  },
  {
   "cell_type": "markdown",
   "metadata": {
    "colab_type": "text",
    "id": "hexrfnpu46uo"
   },
   "source": [
    "## Выбор моделей для решения задачи классификации"
   ]
  },
  {
   "cell_type": "markdown",
   "metadata": {
    "colab_type": "text",
    "id": "MR8mOcMC5dBe"
   },
   "source": [
    "**SGDClassifier** - стохастический градиентный спуск.\n",
    "\n",
    "**DecisionTreeClassifier** - дерево решений.\n",
    "\n",
    "**RandomForestClassifier** - случайный лес."
   ]
  },
  {
   "cell_type": "code",
   "execution_count": null,
   "metadata": {
    "colab": {},
    "colab_type": "code",
    "id": "RHqmqX7I404o"
   },
   "outputs": [],
   "source": [
    "from sklearn.linear_model import SGDClassifier\n",
    "from sklearn.tree import DecisionTreeClassifier\n",
    "from sklearn.ensemble import RandomForestClassifier"
   ]
  },
  {
   "cell_type": "markdown",
   "metadata": {
    "colab_type": "text",
    "id": "8Ca2CDDI6JAR"
   },
   "source": [
    "## Разделение выборки на обучающую и тестовую"
   ]
  },
  {
   "cell_type": "code",
   "execution_count": null,
   "metadata": {
    "colab": {},
    "colab_type": "code",
    "id": "sh3hvrl156aV"
   },
   "outputs": [],
   "source": [
    "target = data_cleared['target']\n",
    "data_cleared = data_cleared.drop('target', axis=1)"
   ]
  },
  {
   "cell_type": "code",
   "execution_count": null,
   "metadata": {
    "colab": {},
    "colab_type": "code",
    "id": "YL9rP4tP7Ayr"
   },
   "outputs": [],
   "source": [
    "from sklearn.model_selection import train_test_split\n",
    "X_train, X_test, Y_train, Y_test = train_test_split(\n",
    "    data_cleared, \n",
    "    target, \n",
    "    test_size=0.2, \n",
    "    random_state=1\n",
    ")"
   ]
  },
  {
   "cell_type": "code",
   "execution_count": null,
   "metadata": {
    "colab": {
     "base_uri": "https://localhost:8080/",
     "height": 34
    },
    "colab_type": "code",
    "id": "t3c_j6l27JWj",
    "outputId": "938a3b1b-e169-45a1-f5a9-eb7154c1dc01"
   },
   "outputs": [],
   "source": [
    "X_train.shape, Y_train.shape"
   ]
  },
  {
   "cell_type": "code",
   "execution_count": null,
   "metadata": {
    "colab": {
     "base_uri": "https://localhost:8080/",
     "height": 34
    },
    "colab_type": "code",
    "id": "h_NHri2X7Kw8",
    "outputId": "831f15c6-311a-465a-cbaf-edbcbdfff77f"
   },
   "outputs": [],
   "source": [
    "X_test.shape, Y_test.shape"
   ]
  },
  {
   "cell_type": "markdown",
   "metadata": {
    "colab_type": "text",
    "id": "diDmqPFS7W5X"
   },
   "source": [
    "## Построение базового решения (baseline) для выбранных моделей без подбора гиперпараметров"
   ]
  },
  {
   "cell_type": "code",
   "execution_count": null,
   "metadata": {
    "colab": {},
    "colab_type": "code",
    "id": "EIWkU4fc7LzQ"
   },
   "outputs": [],
   "source": [
    "sgd = SGDClassifier().fit(X_train, Y_train)\n",
    "predicted_sgd = sgd.predict(X_test)"
   ]
  },
  {
   "cell_type": "code",
   "execution_count": null,
   "metadata": {
    "colab": {},
    "colab_type": "code",
    "id": "PSNx-chx7d8L"
   },
   "outputs": [],
   "source": [
    "def print_accuracy_metrics(Y_test, predicted_sgd): \n",
    "  print(\"balanced_accuracy_score {}\".format(\n",
    "      balanced_accuracy_score(Y_test, predicted_sgd)))\n",
    "  print(\"precision_score {}\".format(\n",
    "      precision_score(Y_test, predicted_sgd, average='weighted')))\n",
    "  print(\"recall_score {}\".format(\n",
    "      recall_score(Y_test, predicted_sgd, average='weighted')))\n",
    "  print(\"f1_score {}\".format(\n",
    "      f1_score(Y_test, predicted_sgd, average='weighted')))"
   ]
  },
  {
   "cell_type": "code",
   "execution_count": null,
   "metadata": {
    "colab": {
     "base_uri": "https://localhost:8080/",
     "height": 85
    },
    "colab_type": "code",
    "id": "R1IRQc-f72rT",
    "outputId": "235da992-47ba-493a-fc5d-f9d2298c0cd3"
   },
   "outputs": [],
   "source": [
    "print_accuracy_metrics(Y_test, predicted_sgd)"
   ]
  },
  {
   "cell_type": "code",
   "execution_count": null,
   "metadata": {
    "colab": {},
    "colab_type": "code",
    "id": "KpkB0PA99jqc"
   },
   "outputs": [],
   "source": [
    "dt = DecisionTreeClassifier().fit(X_train, Y_train)\n",
    "predicted_dt = dt.predict(X_test)"
   ]
  },
  {
   "cell_type": "code",
   "execution_count": null,
   "metadata": {
    "colab": {
     "base_uri": "https://localhost:8080/",
     "height": 85
    },
    "colab_type": "code",
    "id": "kzIp3a2L9yCw",
    "outputId": "89216107-9b10-4175-8df0-f8e281ad69db"
   },
   "outputs": [],
   "source": [
    "print_accuracy_metrics(Y_test, predicted_dt)"
   ]
  },
  {
   "cell_type": "code",
   "execution_count": null,
   "metadata": {
    "colab": {},
    "colab_type": "code",
    "id": "1TeZincj90FG"
   },
   "outputs": [],
   "source": [
    "rfc = RandomForestClassifier().fit(X_train, Y_train)\n",
    "predicted_rfc = rfc.predict(X_test)"
   ]
  },
  {
   "cell_type": "code",
   "execution_count": null,
   "metadata": {
    "colab": {
     "base_uri": "https://localhost:8080/",
     "height": 85
    },
    "colab_type": "code",
    "id": "DCnZoT5593aZ",
    "outputId": "533543ca-5d19-425d-fa36-e54f055851b7"
   },
   "outputs": [],
   "source": [
    "print_accuracy_metrics(Y_test, predicted_rfc)"
   ]
  },
  {
   "cell_type": "markdown",
   "metadata": {
    "colab_type": "text",
    "id": "voNjefeN-JEr"
   },
   "source": [
    "## Подбор гиперпараметров для выбранных моделей"
   ]
  },
  {
   "cell_type": "code",
   "execution_count": null,
   "metadata": {
    "colab": {},
    "colab_type": "code",
    "id": "3p--uq2O95jN"
   },
   "outputs": [],
   "source": [
    "from sklearn.model_selection import GridSearchCV"
   ]
  },
  {
   "cell_type": "code",
   "execution_count": null,
   "metadata": {
    "colab": {
     "base_uri": "https://localhost:8080/",
     "height": 51
    },
    "colab_type": "code",
    "id": "6jDeMj0i-mFB",
    "outputId": "d51960b2-aa06-4215-b291-bef2931f59d5"
   },
   "outputs": [],
   "source": [
    "n_range = np.array(range(0,100,5))\n",
    "n_range = n_range / 100\n",
    "tuned_parameters = [{'l1_ratio': n_range}]\n",
    "tuned_parameters"
   ]
  },
  {
   "cell_type": "code",
   "execution_count": null,
   "metadata": {
    "colab": {
     "base_uri": "https://localhost:8080/",
     "height": 309
    },
    "colab_type": "code",
    "id": "3i42FKEF-sHj",
    "outputId": "ecc80e8f-5fee-4d69-bfc7-04bd47284362"
   },
   "outputs": [],
   "source": [
    "clf_gs_sgd = GridSearchCV(SGDClassifier(), tuned_parameters, cv=5,\n",
    "                      scoring='accuracy')\n",
    "clf_gs_sgd.fit(X_train, Y_train)"
   ]
  },
  {
   "cell_type": "code",
   "execution_count": null,
   "metadata": {
    "colab": {
     "base_uri": "https://localhost:8080/",
     "height": 34
    },
    "colab_type": "code",
    "id": "3ObCSLUY-t16",
    "outputId": "391d28b0-1c60-4381-c40e-f129adc5cb71"
   },
   "outputs": [],
   "source": [
    "clf_gs_sgd.best_params_"
   ]
  },
  {
   "cell_type": "code",
   "execution_count": null,
   "metadata": {
    "colab": {
     "base_uri": "https://localhost:8080/",
     "height": 286
    },
    "colab_type": "code",
    "id": "Sy5fatZd-yYI",
    "outputId": "45d524b9-1d75-414a-f388-46b3f52f9320"
   },
   "outputs": [],
   "source": [
    "plt.plot(n_range, clf_gs_sgd.cv_results_['mean_test_score'])"
   ]
  },
  {
   "cell_type": "code",
   "execution_count": null,
   "metadata": {
    "colab": {
     "base_uri": "https://localhost:8080/",
     "height": 34
    },
    "colab_type": "code",
    "id": "YW82ymeK-zhS",
    "outputId": "1659dc2b-3b19-4277-de87-6853c58f8d4c"
   },
   "outputs": [],
   "source": [
    "n_range = np.array(range(1,7,1))\n",
    "tuned_parameters = [{'max_depth': n_range}]\n",
    "tuned_parameters"
   ]
  },
  {
   "cell_type": "code",
   "execution_count": null,
   "metadata": {
    "colab": {
     "base_uri": "https://localhost:8080/",
     "height": 343
    },
    "colab_type": "code",
    "id": "Zv4FfDFA-2hL",
    "outputId": "1e2bdcb0-44fe-482a-968b-d1bc783c8412"
   },
   "outputs": [],
   "source": [
    "clf_gs_dt = GridSearchCV(DecisionTreeClassifier(random_state=1), tuned_parameters,\n",
    "                          cv=5, scoring='accuracy')\n",
    "clf_gs_dt.fit(X_train, Y_train)"
   ]
  },
  {
   "cell_type": "code",
   "execution_count": null,
   "metadata": {
    "colab": {
     "base_uri": "https://localhost:8080/",
     "height": 34
    },
    "colab_type": "code",
    "id": "3BII27EO-3nU",
    "outputId": "1702c936-e45e-4b31-c242-ae0b1f4d42f1"
   },
   "outputs": [],
   "source": [
    "clf_gs_dt.best_params_"
   ]
  },
  {
   "cell_type": "code",
   "execution_count": null,
   "metadata": {
    "colab": {
     "base_uri": "https://localhost:8080/",
     "height": 286
    },
    "colab_type": "code",
    "id": "m3ijvPky-4yU",
    "outputId": "7bb679bd-8b45-47e0-a504-6e39589d7b7e"
   },
   "outputs": [],
   "source": [
    "plt.plot(n_range, clf_gs_dt.cv_results_['mean_test_score'])"
   ]
  },
  {
   "cell_type": "code",
   "execution_count": null,
   "metadata": {
    "colab": {
     "base_uri": "https://localhost:8080/",
     "height": 51
    },
    "colab_type": "code",
    "id": "vYwOed-q-8kO",
    "outputId": "b5fbf7f1-6962-4475-dd80-41bb35255987"
   },
   "outputs": [],
   "source": [
    "rfc_n_range = np.array(range(5,100,5))\n",
    "rfc_tuned_parameters = [{'n_estimators': rfc_n_range}]\n",
    "rfc_tuned_parameters"
   ]
  },
  {
   "cell_type": "code",
   "execution_count": null,
   "metadata": {
    "colab": {
     "base_uri": "https://localhost:8080/",
     "height": 360
    },
    "colab_type": "code",
    "id": "89LW7h8T_Bbq",
    "outputId": "e0c67ac1-da91-4a7e-b86a-8ee8d10b130b"
   },
   "outputs": [],
   "source": [
    "gs_rfc = GridSearchCV(RandomForestClassifier(), rfc_tuned_parameters, cv=5,\n",
    "                      scoring='accuracy')\n",
    "gs_rfc.fit(X_train, Y_train)"
   ]
  },
  {
   "cell_type": "code",
   "execution_count": null,
   "metadata": {
    "colab": {
     "base_uri": "https://localhost:8080/",
     "height": 34
    },
    "colab_type": "code",
    "id": "7zQKWjmo_Dhq",
    "outputId": "479bc282-2c92-440f-fcd0-b7b61bf53e46"
   },
   "outputs": [],
   "source": [
    "gs_rfc.best_params_"
   ]
  },
  {
   "cell_type": "code",
   "execution_count": null,
   "metadata": {
    "colab": {
     "base_uri": "https://localhost:8080/",
     "height": 286
    },
    "colab_type": "code",
    "id": "nzJLgU13_Ei1",
    "outputId": "28c82a02-2457-4c32-ca01-4c76b74c7521"
   },
   "outputs": [],
   "source": [
    "plt.plot(rfc_n_range, gs_rfc.cv_results_['mean_test_score'])"
   ]
  },
  {
   "cell_type": "markdown",
   "metadata": {
    "colab_type": "text",
    "id": "y1LnpXiL_PWw"
   },
   "source": [
    "## Оценка качества работы моделей с подобранными гиперпараметрами"
   ]
  },
  {
   "cell_type": "code",
   "execution_count": null,
   "metadata": {
    "colab": {},
    "colab_type": "code",
    "id": "mYu-H5T5_eIF"
   },
   "outputs": [],
   "source": [
    "import warnings\n",
    "warnings.filterwarnings('ignore')\n",
    "\n",
    "sgd_optimized = SGDClassifier(l1_ratio=clf_gs_sgd.best_params_['l1_ratio']).fit(X_train, Y_train)\n",
    "predicted_sgd_opt = sgd_optimized.predict(X_test)"
   ]
  },
  {
   "cell_type": "code",
   "execution_count": null,
   "metadata": {
    "colab": {
     "base_uri": "https://localhost:8080/",
     "height": 170
    },
    "colab_type": "code",
    "id": "5uUc5PVI_F_9",
    "outputId": "fcf70e1b-0ad0-47a9-c762-579958d2f383"
   },
   "outputs": [],
   "source": [
    "print_accuracy_metrics(Y_test, predicted_sgd)\n",
    "print()\n",
    "print_accuracy_metrics(Y_test, predicted_sgd_opt)"
   ]
  },
  {
   "cell_type": "code",
   "execution_count": null,
   "metadata": {
    "colab": {},
    "colab_type": "code",
    "id": "uN-u68MN_gDg"
   },
   "outputs": [],
   "source": [
    "dt_optimized = DecisionTreeClassifier(max_depth=clf_gs_dt.best_params_['max_depth']).fit(X_train, Y_train)\n",
    "predicted_dt_opt = dt_optimized.predict(X_test)"
   ]
  },
  {
   "cell_type": "code",
   "execution_count": null,
   "metadata": {
    "colab": {
     "base_uri": "https://localhost:8080/",
     "height": 170
    },
    "colab_type": "code",
    "id": "51BBy99CAYTy",
    "outputId": "5d930a97-958c-4792-a4b5-03a4d38b101f"
   },
   "outputs": [],
   "source": [
    "print_accuracy_metrics(Y_test, predicted_dt)\n",
    "print()\n",
    "print_accuracy_metrics(Y_test, predicted_dt_opt)"
   ]
  },
  {
   "cell_type": "code",
   "execution_count": null,
   "metadata": {
    "colab": {},
    "colab_type": "code",
    "id": "kpHatwI7Aa0G"
   },
   "outputs": [],
   "source": [
    "rfc_optimized = RandomForestClassifier(n_estimators=gs_rfc.best_params_['n_estimators']).fit(X_train, Y_train)\n",
    "predicted_rfc_opt = rfc_optimized.predict(X_test)"
   ]
  },
  {
   "cell_type": "code",
   "execution_count": null,
   "metadata": {
    "colab": {
     "base_uri": "https://localhost:8080/",
     "height": 170
    },
    "colab_type": "code",
    "id": "gmIoUocSAjJ-",
    "outputId": "1345cb4e-27e1-44d5-d6fb-4b3be2369338"
   },
   "outputs": [],
   "source": [
    "print_accuracy_metrics(Y_test, predicted_rfc)\n",
    "print()\n",
    "print_accuracy_metrics(Y_test, predicted_rfc_opt)"
   ]
  },
  {
   "cell_type": "markdown",
   "metadata": {
    "colab_type": "text",
    "id": "3RJgcnbUBzb8"
   },
   "source": [
    "## Выводы"
   ]
  },
  {
   "cell_type": "markdown",
   "metadata": {
    "colab_type": "text",
    "id": "IF5LqRk_A0W4"
   },
   "source": [
    "Подбор гиперпараметров для выбранных моделей машинного обучения позволил увеличить точность решения задачи классификации на обучаемых моделях. Наибольший прирост в точности получила модель стохастического градиентного спуска. Однако наиболее точно с задачей классификации на данном датасете справляется дерево решений, как до подбора гиперпараметров, так и после."
   ]
  },
  {
   "cell_type": "markdown",
   "metadata": {
    "colab_type": "text",
    "id": "Arf1idsxB2MO"
   },
   "source": [
    "## Список литературы\n",
    "\n",
    "\n",
    "1. Heart Disease UCI: https://www.kaggle.com/ronitf/heart-disease-uci\n",
    "2. Model evaluation: quantifying the quality of predictions: https://scikit-learn.org/stable/modules/model_evaluation.html\n",
    "3. Model selection: choosing estimators and their parameters: https://scikit-learn.org/\n",
    "stable/tutorial/statistical_inference/model_selection.html\n",
    "4. SGDClassifier: https://scikit-learn.org/stable/modules/generated/\n",
    "sklearn.linear_model.SGDClassifier.html\n",
    "5. DecisionTreeClassifier: https://scikit-learn.org/stable/modules/generated/\n",
    "sklearn.tree.DecisionTreeClassifier.html\n",
    "6. RandomForestClassifier: https://scikit-learn.org/stable/modules/generated/\n",
    "sklearn.ensemble.RandomForestClassifier.html"
   ]
  },
  {
   "cell_type": "code",
   "execution_count": null,
   "metadata": {
    "colab": {},
    "colab_type": "code",
    "id": "v5mIvRpmAnd_"
   },
   "outputs": [],
   "source": []
  }
 ],
 "metadata": {
  "authors": [
   {
    "name": "Коробко Дмитрий Олегович"
   }
  ],
  "colab": {
   "name": "HW_MMO.ipynb",
   "provenance": [],
   "version": "0.3.2"
  },
  "group": "ИУ5-21М",
  "kernelspec": {
   "display_name": "Python 3",
   "language": "python",
   "name": "python3"
  },
  "language_info": {
   "codemirror_mode": {
    "name": "ipython",
    "version": 3
   },
   "file_extension": ".py",
   "mimetype": "text/x-python",
   "name": "python",
   "nbconvert_exporter": "python",
   "pygments_lexer": "ipython3",
   "version": "3.6.5"
  }
 },
 "nbformat": 4,
 "nbformat_minor": 1
}
